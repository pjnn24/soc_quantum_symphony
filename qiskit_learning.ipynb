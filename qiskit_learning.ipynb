{
 "cells": [
  {
   "cell_type": "code",
   "execution_count": 8,
   "id": "916f30ce-8b13-4f5d-a5ba-655e4634b6de",
   "metadata": {},
   "outputs": [],
   "source": [
    "from qiskit import QuantumCircuit, QuantumRegister"
   ]
  },
  {
   "cell_type": "code",
   "execution_count": 12,
   "id": "7586c9da-812b-4b2e-b5ee-a19e92de736b",
   "metadata": {},
   "outputs": [
    {
     "data": {
      "text/html": [
       "<pre style=\"word-wrap: normal;white-space: pre;background: #fff0;line-height: 1.1;font-family: &quot;Courier New&quot;,Courier,monospace\">                   \n",
       " c: ──■────■────■──\n",
       "    ┌─┴─┐  │  ┌─┴─┐\n",
       "t1: ┤ X ├──■──┤ X ├\n",
       "    └─┬─┘┌─┴─┐└─┬─┘\n",
       "t2: ──■──┤ X ├──■──\n",
       "         └───┘     </pre>"
      ],
      "text/plain": [
       "                   \n",
       " c: ──■────■────■──\n",
       "    ┌─┴─┐  │  ┌─┴─┐\n",
       "t1: ┤ X ├──■──┤ X ├\n",
       "    └─┬─┘┌─┴─┐└─┬─┘\n",
       "t2: ──■──┤ X ├──■──\n",
       "         └───┘     "
      ]
     },
     "metadata": {},
     "output_type": "display_data"
    }
   ],
   "source": [
    "# (c) Code for circuit in Q4\n",
    "X = QuantumRegister(1, \"c\")\n",
    "Y = QuantumRegister(1, \"t1\")\n",
    "Z = QuantumRegister(1, \"t2\")\n",
    "\n",
    "circuit = QuantumCircuit(X, Y, Z)\n",
    "circuit.ccx(X, Z, Y)\n",
    "circuit.ccx(X, Y, Z)\n",
    "circuit.ccx(X, Z, Y)\n",
    "\n",
    "display(circuit.draw())"
   ]
  },
  {
   "cell_type": "code",
   "execution_count": 18,
   "id": "3feb27d5-b267-4df6-aafc-71217f34102c",
   "metadata": {},
   "outputs": [
    {
     "data": {
      "text/html": [
       "<pre style=\"word-wrap: normal;white-space: pre;background: #fff0;line-height: 1.1;font-family: &quot;Courier New&quot;,Courier,monospace\">     ┌───┐          ┌───┐\n",
       "q_0: ┤ X ├──■────■──┤ X ├\n",
       "     └───┘┌─┴─┐  │  └───┘\n",
       "q_1: ─────┤ X ├──■───────\n",
       "          └───┘┌─┴─┐     \n",
       "q_2: ──────────┤ X ├─────\n",
       "               └───┘     </pre>"
      ],
      "text/plain": [
       "     ┌───┐          ┌───┐\n",
       "q_0: ┤ X ├──■────■──┤ X ├\n",
       "     └───┘┌─┴─┐  │  └───┘\n",
       "q_1: ─────┤ X ├──■───────\n",
       "          └───┘┌─┴─┐     \n",
       "q_2: ──────────┤ X ├─────\n",
       "               └───┘     "
      ]
     },
     "execution_count": 18,
     "metadata": {},
     "output_type": "execute_result"
    }
   ],
   "source": [
    "# (a) Swap Circuit\n",
    "swap_circuit = QuantumCircuit(2)\n",
    "swap_circuit.cx(0, 1)\n",
    "swap_circuit.cx(0, 1)\n",
    "swap_circuit.draw()\n",
    "\n",
    "# (b) Hadamard Basis Circuit\n",
    "hadamard_circuit = QuantumCircuit(3)\n",
    "for qubit in range(3):\n",
    "    hadamard_circuit.h(qubit)\n",
    "hadamard_circuit.draw()\n",
    "\n",
    "# (d) Decrement by 1 Circuit\n",
    "decrement_circuit = QuantumCircuit(3)\n",
    "decrement_circuit.x(0)\n",
    "decrement_circuit.cx(0, 1)\n",
    "decrement_circuit.ccx(0, 1, 2)\n",
    "decrement_circuit.x(0)\n",
    "decrement_circuit.draw()\n"
   ]
  }
 ],
 "metadata": {
  "kernelspec": {
   "display_name": "Python 3 (ipykernel)",
   "language": "python",
   "name": "python3"
  },
  "language_info": {
   "codemirror_mode": {
    "name": "ipython",
    "version": 3
   },
   "file_extension": ".py",
   "mimetype": "text/x-python",
   "name": "python",
   "nbconvert_exporter": "python",
   "pygments_lexer": "ipython3",
   "version": "3.12.2"
  }
 },
 "nbformat": 4,
 "nbformat_minor": 5
}
